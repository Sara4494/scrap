{
 "cells": [
  {
   "cell_type": "code",
   "execution_count": 23,
   "metadata": {},
   "outputs": [],
   "source": [
    "from bs4 import BeautifulSoup as spp\n",
    "import requests\n",
    "import pandas\n",
    "\n",
    "headersss = {\n",
    "    \"user-agent\":\"Mozilla/5.0 (Windows NT 10.0; Win64; x64) AppleWebKit/537.36 (KHTML, like Gecko) Chrome/104.0.5112.102 Safari/537.36 Edg/104.0.1293.63\"}\n",
    "base_url = \"https://www.basketball-reference.com\"\n",
    "\n",
    "s = requests.session()\n",
    "s.headers.update(headersss)"
   ]
  },
  {
   "cell_type": "code",
   "execution_count": 24,
   "metadata": {},
   "outputs": [],
   "source": [
    "\n",
    "response_r = s.get(\"https://www.basketball-reference.com/players\")\n",
    "soup = spp(response_r.content,'html.parser')\n",
    "all_char = []\n",
    "list_mn_el_soup = soup.find('ul',{'class':'page_index'}).find_all('li')\n",
    "\n",
    "for char in list_mn_el_soup:\n",
    "    try:\n",
    "        char_n = char.find('a').text.lower()\n",
    "        all_char.append(char_n)\n",
    "    except:                                                                                   \n",
    "        pass\n"
   ]
  },
  {
   "cell_type": "code",
   "execution_count": 35,
   "metadata": {},
   "outputs": [
    {
     "name": "stdout",
     "output_type": "stream",
     "text": [
      "5023\n"
     ]
    }
   ],
   "source": [
    "all_players = {}\n",
    "                                                                                   \n",
    "num_player = 0  \n",
    "\n",
    "num_player_print = 0\n",
    "for char in all_char:\n",
    "    url = f'https://www.basketball-reference.com/players/{char}/'\n",
    "    #print(char)\n",
    "\n",
    "    response_r = s.get(url)\n",
    "    if response_r.status_code == 200:\n",
    "        soup = spp(response_r.content,'html.parser')\n",
    "\n",
    "        count_players = soup.find('div',{'id':'all_players'}).find('h2').text.replace(' Players','')\n",
    "        try :\n",
    "            tag_players = soup.find('table',{'id':'players'}).find_all('th',{'data-stat':'player'})[1:]\n",
    "        except:\n",
    "            tag_players = False\n",
    "\n",
    "        if tag_players != False:    \n",
    "            for tag in tag_players:\n",
    "                num_player +=1\n",
    "                name_of_player = tag.find('a').text\n",
    "                link_of_player = tag.find('a')['href']\n",
    "                \n",
    "                link_of_player_kamel = base_url + link_of_player\n",
    "                all_players[num_player] = {\n",
    "                    'Name' : name_of_player,\n",
    "                    'Link' : link_of_player_kamel,\n",
    "                    \"Char\": char,   \n",
    "                }\n",
    "        #print(\"Number Of Players page\",char,len(tag_players))\n",
    "    else:\n",
    "        print(\"Internet Disconnected\")\n",
    "    #print(count_players)\n",
    "    \n",
    "print(len(all_players))\n"
   ]
  },
  {
   "cell_type": "code",
   "execution_count": 38,
   "metadata": {},
   "outputs": [],
   "source": [
    "players_mini = all_players[1]"
   ]
  },
  {
   "cell_type": "code",
   "execution_count": 39,
   "metadata": {},
   "outputs": [
    {
     "ename": "KeyboardInterrupt",
     "evalue": "",
     "output_type": "error",
     "traceback": [
      "\u001b[1;31m---------------------------------------------------------------------------\u001b[0m",
      "\u001b[1;31mKeyboardInterrupt\u001b[0m                         Traceback (most recent call last)",
      "Cell \u001b[1;32mIn [39], line 5\u001b[0m\n\u001b[0;32m      2\u001b[0m url_player \u001b[38;5;241m=\u001b[39m player[\u001b[38;5;124m'\u001b[39m\u001b[38;5;124mLink\u001b[39m\u001b[38;5;124m'\u001b[39m]\n\u001b[0;32m      3\u001b[0m response_r \u001b[38;5;241m=\u001b[39m s\u001b[38;5;241m.\u001b[39mget(url_player)\n\u001b[1;32m----> 5\u001b[0m soup \u001b[38;5;241m=\u001b[39m \u001b[43mspp\u001b[49m\u001b[43m(\u001b[49m\u001b[43mresponse_r\u001b[49m\u001b[38;5;241;43m.\u001b[39;49m\u001b[43mcontent\u001b[49m\u001b[43m,\u001b[49m\u001b[38;5;124;43m'\u001b[39;49m\u001b[38;5;124;43mhtml.parser\u001b[39;49m\u001b[38;5;124;43m'\u001b[39;49m\u001b[43m)\u001b[49m\n\u001b[0;32m      7\u001b[0m \u001b[38;5;66;03m######\u001b[39;00m\n\u001b[0;32m      8\u001b[0m \u001b[38;5;66;03m#### Start Info Player\u001b[39;00m\n\u001b[0;32m      9\u001b[0m \u001b[38;5;66;03m######\u001b[39;00m\n\u001b[0;32m     11\u001b[0m \u001b[38;5;28;01mtry\u001b[39;00m:\n",
      "File \u001b[1;32mc:\\Users\\elmooo\\Desktop\\Projects\\venv\\lib\\site-packages\\bs4\\__init__.py:333\u001b[0m, in \u001b[0;36mBeautifulSoup.__init__\u001b[1;34m(self, markup, features, builder, parse_only, from_encoding, exclude_encodings, element_classes, **kwargs)\u001b[0m\n\u001b[0;32m    331\u001b[0m \u001b[39mself\u001b[39m\u001b[39m.\u001b[39mbuilder\u001b[39m.\u001b[39minitialize_soup(\u001b[39mself\u001b[39m)\n\u001b[0;32m    332\u001b[0m \u001b[39mtry\u001b[39;00m:\n\u001b[1;32m--> 333\u001b[0m     \u001b[39mself\u001b[39;49m\u001b[39m.\u001b[39;49m_feed()\n\u001b[0;32m    334\u001b[0m     success \u001b[39m=\u001b[39m \u001b[39mTrue\u001b[39;00m\n\u001b[0;32m    335\u001b[0m     \u001b[39mbreak\u001b[39;00m\n",
      "File \u001b[1;32mc:\\Users\\elmooo\\Desktop\\Projects\\venv\\lib\\site-packages\\bs4\\__init__.py:451\u001b[0m, in \u001b[0;36mBeautifulSoup._feed\u001b[1;34m(self)\u001b[0m\n\u001b[0;32m    448\u001b[0m \u001b[39m# Convert the document to Unicode.\u001b[39;00m\n\u001b[0;32m    449\u001b[0m \u001b[39mself\u001b[39m\u001b[39m.\u001b[39mbuilder\u001b[39m.\u001b[39mreset()\n\u001b[1;32m--> 451\u001b[0m \u001b[39mself\u001b[39;49m\u001b[39m.\u001b[39;49mbuilder\u001b[39m.\u001b[39;49mfeed(\u001b[39mself\u001b[39;49m\u001b[39m.\u001b[39;49mmarkup)\n\u001b[0;32m    452\u001b[0m \u001b[39m# Close out any unfinished strings and close all the open tags.\u001b[39;00m\n\u001b[0;32m    453\u001b[0m \u001b[39mself\u001b[39m\u001b[39m.\u001b[39mendData()\n",
      "File \u001b[1;32mc:\\Users\\elmooo\\Desktop\\Projects\\venv\\lib\\site-packages\\bs4\\builder\\_htmlparser.py:399\u001b[0m, in \u001b[0;36mHTMLParserTreeBuilder.feed\u001b[1;34m(self, markup)\u001b[0m\n\u001b[0;32m    397\u001b[0m parser\u001b[39m.\u001b[39msoup \u001b[39m=\u001b[39m \u001b[39mself\u001b[39m\u001b[39m.\u001b[39msoup\n\u001b[0;32m    398\u001b[0m \u001b[39mtry\u001b[39;00m:\n\u001b[1;32m--> 399\u001b[0m     parser\u001b[39m.\u001b[39;49mfeed(markup)\n\u001b[0;32m    400\u001b[0m     parser\u001b[39m.\u001b[39mclose()\n\u001b[0;32m    401\u001b[0m \u001b[39mexcept\u001b[39;00m HTMLParseError \u001b[39mas\u001b[39;00m e:\n",
      "File \u001b[1;32m~\\AppData\\Local\\Programs\\Python\\Python310\\lib\\html\\parser.py:110\u001b[0m, in \u001b[0;36mHTMLParser.feed\u001b[1;34m(self, data)\u001b[0m\n\u001b[0;32m    104\u001b[0m \u001b[39mr\u001b[39m\u001b[39m\"\"\"Feed data to the parser.\u001b[39;00m\n\u001b[0;32m    105\u001b[0m \n\u001b[0;32m    106\u001b[0m \u001b[39mCall this as often as you want, with as little or as much text\u001b[39;00m\n\u001b[0;32m    107\u001b[0m \u001b[39mas you want (may include '\\n').\u001b[39;00m\n\u001b[0;32m    108\u001b[0m \u001b[39m\"\"\"\u001b[39;00m\n\u001b[0;32m    109\u001b[0m \u001b[39mself\u001b[39m\u001b[39m.\u001b[39mrawdata \u001b[39m=\u001b[39m \u001b[39mself\u001b[39m\u001b[39m.\u001b[39mrawdata \u001b[39m+\u001b[39m data\n\u001b[1;32m--> 110\u001b[0m \u001b[39mself\u001b[39;49m\u001b[39m.\u001b[39;49mgoahead(\u001b[39m0\u001b[39;49m)\n",
      "File \u001b[1;32m~\\AppData\\Local\\Programs\\Python\\Python310\\lib\\html\\parser.py:155\u001b[0m, in \u001b[0;36mHTMLParser.goahead\u001b[1;34m(self, end)\u001b[0m\n\u001b[0;32m    153\u001b[0m match \u001b[39m=\u001b[39m \u001b[39mself\u001b[39m\u001b[39m.\u001b[39minteresting\u001b[39m.\u001b[39msearch(rawdata, i)  \u001b[39m# < or &\u001b[39;00m\n\u001b[0;32m    154\u001b[0m \u001b[39mif\u001b[39;00m match:\n\u001b[1;32m--> 155\u001b[0m     j \u001b[39m=\u001b[39m match\u001b[39m.\u001b[39;49mstart()\n\u001b[0;32m    156\u001b[0m \u001b[39melse\u001b[39;00m:\n\u001b[0;32m    157\u001b[0m     \u001b[39mif\u001b[39;00m \u001b[39mself\u001b[39m\u001b[39m.\u001b[39mcdata_elem:\n",
      "\u001b[1;31mKeyboardInterrupt\u001b[0m: "
     ]
    }
   ],
   "source": [
    "\n",
    "for player in all_players.values():\n",
    "    url_player = player['Link']\n",
    "    response_r = s.get(url_player)\n",
    "    \n",
    "\n",
    "    ####\n",
    "    ######### IF L El Request Lw Howa Ma Fata7sh Yb2a Ma Ynafezsh ba2y el Loop\n",
    "    #####\n",
    "    soup = spp(response_r.content,'html.parser')\n",
    "    \n",
    "    ######\n",
    "    #### Start Info Player\n",
    "    ######\n",
    "\n",
    "    try:\n",
    "        info_player = soup.find('div',{'id':'meta'})#.text.strip()\n",
    "    except:\n",
    "        info_player = \"Not Found\"\n",
    "        pass\n",
    "    \n",
    "    ######\n",
    "    #### End Info Player\n",
    "    ######\n",
    "    \n",
    "    try:\n",
    "        name_player = info_player.find('h1').text.strip()\n",
    "        #print(name_player)\n",
    "    except:\n",
    "        name_player = \"No Name\"\n",
    "        pass\n",
    "    if info_player != \"Not Found\":\n",
    "        all_p = info_player.find_all(\"p\")\n",
    "\n",
    "    #print(\"p\",name_player)\n",
    "    #print(all_p)\n",
    "    if len(all_p) > 1:\n",
    "        for p in all_p:\n",
    "            p_text = p.text.strip().replace('\\n','') \n",
    "            #print(\"Link\", player['Link'])\n",
    "\n",
    "            #print(p_text)\n",
    "            if (\"Position\") in p_text:\n",
    "                try:\n",
    "                    player[\"Position\"] = p_text.strip().replace(\"Position:\",\"\").replace(\"Shoots:\",\"\").replace(\"Right\",\"\").replace(\"▪\",\"\").replace(\"Left\",\"\").strip()\n",
    "                except:\n",
    "                    player[\"Position\"] = \"No Position\"\n",
    "            \n",
    "            elif (\"Born\") in p_text:\n",
    "                try:\n",
    "                    player[\"Born_Date\"] = p.find('span',{\"id\":\"necro-birth\"})[\"data-birth\"]\n",
    "                except:\n",
    "                    player[\"Born_Date\"] = \"No Born Date\"\n",
    "                try:\n",
    "                    span_place = p.find_all('span')[1].find('a').text\n",
    "                    player[\"Born_place\"] = span_place\n",
    "\n",
    "                except:\n",
    "                    player[\"Born_place\"] = 'No Born Place'\n",
    "            elif (\"NBA Debut:\") in p_text:\n",
    "                try:\n",
    "                    player[\"NBA Debut\"] = p_text.strip().replace(\",\",\"\")#.replace(\"NBA Debut:\",\"\")\n",
    "                except:\n",
    "                    player[\"NBA Debut\"] = \"No Info\"\n",
    "\n",
    "            elif (\"High School:\") in p_text:\n",
    "                try:    \n",
    "                    #print(p_text ,\"High School\")\n",
    "                    player[\"High School\"] = p_text.strip().replace(\"High School:\",\"\").replace(\" \",\"\")\n",
    "                except:\n",
    "                    player[\"High School\"] = \"No High School\"\n",
    "            elif (\"kg\") in p_text or (\"cm\") in p_text:\n",
    "                try: \n",
    "                    player[\"Height\"] = p_text.replace(\" \",\"\").strip()\n",
    "                    #print(p_text)m,nn;l\n",
    "                except:                \n",
    "                    player[\"Height\"] = \"No Height\"\n",
    "            elif (\"College\") in p_text:\n",
    "                try:\n",
    "                    college = p_text.strip().replace(\"College\",\"\").replace(\" \",\"\")\n",
    "                    player[\"College\"] = college\n",
    "                    #print(p_text)\n",
    "                except:\n",
    "                    college = None\n",
    "                \n",
    "\n"
   ]
  },
  {
   "cell_type": "code",
   "execution_count": 31,
   "metadata": {},
   "outputs": [
    {
     "name": "stdout",
     "output_type": "stream",
     "text": [
      ":St.John's\n",
      ":St.John's\n",
      ":Indiana\n",
      ":MiamiUniversity\n",
      ":DrakeUniversity\n",
      ":Washington&Jefferson\n",
      ":NotreDame\n",
      ":UNC\n",
      ":ArizonaState\n",
      "s:SeattlePacificUniversity,Washington\n"
     ]
    },
    {
     "ename": "KeyError",
     "evalue": "'College'",
     "output_type": "error",
     "traceback": [
      "\u001b[1;31m---------------------------------------------------------------------------\u001b[0m",
      "\u001b[1;31mKeyError\u001b[0m                                  Traceback (most recent call last)",
      "Cell \u001b[1;32mIn [31], line 2\u001b[0m\n\u001b[0;32m      1\u001b[0m \u001b[38;5;28;01mfor\u001b[39;00m player \u001b[38;5;129;01min\u001b[39;00m all_players\u001b[38;5;241m.\u001b[39mvalues():\n\u001b[1;32m----> 2\u001b[0m     \u001b[38;5;28mprint\u001b[39m(\u001b[43mplayer\u001b[49m\u001b[43m[\u001b[49m\u001b[38;5;124;43m\"\u001b[39;49m\u001b[38;5;124;43mCollege\u001b[39;49m\u001b[38;5;124;43m\"\u001b[39;49m\u001b[43m]\u001b[49m)\n",
      "\u001b[1;31mKeyError\u001b[0m: 'College'"
     ]
    }
   ],
   "source": [
    "for player in all_players.values():\n",
    "    print(player[\"College\"])\n"
   ]
  },
  {
   "cell_type": "code",
   "execution_count": 41,
   "metadata": {},
   "outputs": [
    {
     "ename": "PermissionError",
     "evalue": "[Errno 13] Permission denied: 'data_sheet/all_players_2.xlsx'",
     "output_type": "error",
     "traceback": [
      "\u001b[1;31m---------------------------------------------------------------------------\u001b[0m",
      "\u001b[1;31mPermissionError\u001b[0m                           Traceback (most recent call last)",
      "Cell \u001b[1;32mIn [41], line 9\u001b[0m\n\u001b[0;32m      3\u001b[0m df \u001b[38;5;241m=\u001b[39m pandas\u001b[38;5;241m.\u001b[39mDataFrame\u001b[38;5;241m.\u001b[39mfrom_dict(all_players , orient\u001b[38;5;241m=\u001b[39m\u001b[38;5;124m\"\u001b[39m\u001b[38;5;124mindex\u001b[39m\u001b[38;5;124m\"\u001b[39m,\n\u001b[0;32m      4\u001b[0m         columns\u001b[38;5;241m=\u001b[39m[\u001b[38;5;124m\"\u001b[39m\u001b[38;5;124mName\u001b[39m\u001b[38;5;124m\"\u001b[39m,\u001b[38;5;124m'\u001b[39m\u001b[38;5;124mLink\u001b[39m\u001b[38;5;124m'\u001b[39m,\u001b[38;5;124m'\u001b[39m\u001b[38;5;124mPosition\u001b[39m\u001b[38;5;124m'\u001b[39m,\u001b[38;5;124m'\u001b[39m\u001b[38;5;124mHeight\u001b[39m\u001b[38;5;124m'\u001b[39m,\u001b[38;5;124m'\u001b[39m\u001b[38;5;124mBorn_Date\u001b[39m\u001b[38;5;124m'\u001b[39m,\u001b[38;5;124m'\u001b[39m\u001b[38;5;124mBorn_place\u001b[39m\u001b[38;5;124m'\u001b[39m,\n\u001b[0;32m      5\u001b[0m         \u001b[38;5;124m'\u001b[39m\u001b[38;5;124mCollege\u001b[39m\u001b[38;5;124m'\u001b[39m,\u001b[38;5;124m'\u001b[39m\u001b[38;5;124mHigh School\u001b[39m\u001b[38;5;124m'\u001b[39m,\u001b[38;5;124m'\u001b[39m\u001b[38;5;124mNBA Debut\u001b[39m\u001b[38;5;124m'\u001b[39m])\n\u001b[0;32m      7\u001b[0m \u001b[38;5;66;03m#print(df)\u001b[39;00m\n\u001b[1;32m----> 9\u001b[0m \u001b[43mdf\u001b[49m\u001b[38;5;241;43m.\u001b[39;49m\u001b[43mto_excel\u001b[49m\u001b[43m(\u001b[49m\u001b[38;5;124;43m\"\u001b[39;49m\u001b[38;5;124;43mdata_sheet/all_players_2.xlsx\u001b[39;49m\u001b[38;5;124;43m\"\u001b[39;49m\u001b[43m,\u001b[49m\u001b[43mindex\u001b[49m\u001b[38;5;241;43m=\u001b[39;49m\u001b[38;5;28;43;01mFalse\u001b[39;49;00m\u001b[43m)\u001b[49m\n\u001b[0;32m     10\u001b[0m df\u001b[38;5;241m.\u001b[39mto_csv(\u001b[38;5;124m\"\u001b[39m\u001b[38;5;124mdata_sheet/all_players.csv\u001b[39m\u001b[38;5;124m\"\u001b[39m,index\u001b[38;5;241m=\u001b[39m\u001b[38;5;28;01mFalse\u001b[39;00m)\n",
      "File \u001b[1;32mc:\\Users\\elmooo\\Desktop\\Projects\\venv\\lib\\site-packages\\pandas\\core\\generic.py:2345\u001b[0m, in \u001b[0;36mNDFrame.to_excel\u001b[1;34m(self, excel_writer, sheet_name, na_rep, float_format, columns, header, index, index_label, startrow, startcol, engine, merge_cells, encoding, inf_rep, verbose, freeze_panes, storage_options)\u001b[0m\n\u001b[0;32m   2332\u001b[0m \u001b[39mfrom\u001b[39;00m \u001b[39mpandas\u001b[39;00m\u001b[39m.\u001b[39;00m\u001b[39mio\u001b[39;00m\u001b[39m.\u001b[39;00m\u001b[39mformats\u001b[39;00m\u001b[39m.\u001b[39;00m\u001b[39mexcel\u001b[39;00m \u001b[39mimport\u001b[39;00m ExcelFormatter\n\u001b[0;32m   2334\u001b[0m formatter \u001b[39m=\u001b[39m ExcelFormatter(\n\u001b[0;32m   2335\u001b[0m     df,\n\u001b[0;32m   2336\u001b[0m     na_rep\u001b[39m=\u001b[39mna_rep,\n\u001b[1;32m   (...)\u001b[0m\n\u001b[0;32m   2343\u001b[0m     inf_rep\u001b[39m=\u001b[39minf_rep,\n\u001b[0;32m   2344\u001b[0m )\n\u001b[1;32m-> 2345\u001b[0m formatter\u001b[39m.\u001b[39;49mwrite(\n\u001b[0;32m   2346\u001b[0m     excel_writer,\n\u001b[0;32m   2347\u001b[0m     sheet_name\u001b[39m=\u001b[39;49msheet_name,\n\u001b[0;32m   2348\u001b[0m     startrow\u001b[39m=\u001b[39;49mstartrow,\n\u001b[0;32m   2349\u001b[0m     startcol\u001b[39m=\u001b[39;49mstartcol,\n\u001b[0;32m   2350\u001b[0m     freeze_panes\u001b[39m=\u001b[39;49mfreeze_panes,\n\u001b[0;32m   2351\u001b[0m     engine\u001b[39m=\u001b[39;49mengine,\n\u001b[0;32m   2352\u001b[0m     storage_options\u001b[39m=\u001b[39;49mstorage_options,\n\u001b[0;32m   2353\u001b[0m )\n",
      "File \u001b[1;32mc:\\Users\\elmooo\\Desktop\\Projects\\venv\\lib\\site-packages\\pandas\\io\\formats\\excel.py:888\u001b[0m, in \u001b[0;36mExcelFormatter.write\u001b[1;34m(self, writer, sheet_name, startrow, startcol, freeze_panes, engine, storage_options)\u001b[0m\n\u001b[0;32m    884\u001b[0m     need_save \u001b[39m=\u001b[39m \u001b[39mFalse\u001b[39;00m\n\u001b[0;32m    885\u001b[0m \u001b[39melse\u001b[39;00m:\n\u001b[0;32m    886\u001b[0m     \u001b[39m# error: Cannot instantiate abstract class 'ExcelWriter' with abstract\u001b[39;00m\n\u001b[0;32m    887\u001b[0m     \u001b[39m# attributes 'engine', 'save', 'supported_extensions' and 'write_cells'\u001b[39;00m\n\u001b[1;32m--> 888\u001b[0m     writer \u001b[39m=\u001b[39m ExcelWriter(  \u001b[39m# type: ignore[abstract]\u001b[39;49;00m\n\u001b[0;32m    889\u001b[0m         writer, engine\u001b[39m=\u001b[39;49mengine, storage_options\u001b[39m=\u001b[39;49mstorage_options\n\u001b[0;32m    890\u001b[0m     )\n\u001b[0;32m    891\u001b[0m     need_save \u001b[39m=\u001b[39m \u001b[39mTrue\u001b[39;00m\n\u001b[0;32m    893\u001b[0m \u001b[39mtry\u001b[39;00m:\n",
      "File \u001b[1;32mc:\\Users\\elmooo\\Desktop\\Projects\\venv\\lib\\site-packages\\pandas\\io\\excel\\_xlsxwriter.py:191\u001b[0m, in \u001b[0;36mXlsxWriter.__init__\u001b[1;34m(self, path, engine, date_format, datetime_format, mode, storage_options, if_sheet_exists, engine_kwargs, **kwargs)\u001b[0m\n\u001b[0;32m    188\u001b[0m \u001b[39mif\u001b[39;00m mode \u001b[39m==\u001b[39m \u001b[39m\"\u001b[39m\u001b[39ma\u001b[39m\u001b[39m\"\u001b[39m:\n\u001b[0;32m    189\u001b[0m     \u001b[39mraise\u001b[39;00m \u001b[39mValueError\u001b[39;00m(\u001b[39m\"\u001b[39m\u001b[39mAppend mode is not supported with xlsxwriter!\u001b[39m\u001b[39m\"\u001b[39m)\n\u001b[1;32m--> 191\u001b[0m \u001b[39msuper\u001b[39;49m()\u001b[39m.\u001b[39;49m\u001b[39m__init__\u001b[39;49m(\n\u001b[0;32m    192\u001b[0m     path,\n\u001b[0;32m    193\u001b[0m     engine\u001b[39m=\u001b[39;49mengine,\n\u001b[0;32m    194\u001b[0m     date_format\u001b[39m=\u001b[39;49mdate_format,\n\u001b[0;32m    195\u001b[0m     datetime_format\u001b[39m=\u001b[39;49mdatetime_format,\n\u001b[0;32m    196\u001b[0m     mode\u001b[39m=\u001b[39;49mmode,\n\u001b[0;32m    197\u001b[0m     storage_options\u001b[39m=\u001b[39;49mstorage_options,\n\u001b[0;32m    198\u001b[0m     if_sheet_exists\u001b[39m=\u001b[39;49mif_sheet_exists,\n\u001b[0;32m    199\u001b[0m     engine_kwargs\u001b[39m=\u001b[39;49mengine_kwargs,\n\u001b[0;32m    200\u001b[0m )\n\u001b[0;32m    202\u001b[0m \u001b[39mself\u001b[39m\u001b[39m.\u001b[39mbook \u001b[39m=\u001b[39m Workbook(\u001b[39mself\u001b[39m\u001b[39m.\u001b[39mhandles\u001b[39m.\u001b[39mhandle, \u001b[39m*\u001b[39m\u001b[39m*\u001b[39mengine_kwargs)\n",
      "File \u001b[1;32mc:\\Users\\elmooo\\Desktop\\Projects\\venv\\lib\\site-packages\\pandas\\io\\excel\\_base.py:1106\u001b[0m, in \u001b[0;36mExcelWriter.__init__\u001b[1;34m(self, path, engine, date_format, datetime_format, mode, storage_options, if_sheet_exists, engine_kwargs, **kwargs)\u001b[0m\n\u001b[0;32m   1102\u001b[0m \u001b[39mself\u001b[39m\u001b[39m.\u001b[39mhandles \u001b[39m=\u001b[39m IOHandles(\n\u001b[0;32m   1103\u001b[0m     cast(IO[\u001b[39mbytes\u001b[39m], path), compression\u001b[39m=\u001b[39m{\u001b[39m\"\u001b[39m\u001b[39mcompression\u001b[39m\u001b[39m\"\u001b[39m: \u001b[39mNone\u001b[39;00m}\n\u001b[0;32m   1104\u001b[0m )\n\u001b[0;32m   1105\u001b[0m \u001b[39mif\u001b[39;00m \u001b[39mnot\u001b[39;00m \u001b[39misinstance\u001b[39m(path, ExcelWriter):\n\u001b[1;32m-> 1106\u001b[0m     \u001b[39mself\u001b[39m\u001b[39m.\u001b[39mhandles \u001b[39m=\u001b[39m get_handle(\n\u001b[0;32m   1107\u001b[0m         path, mode, storage_options\u001b[39m=\u001b[39;49mstorage_options, is_text\u001b[39m=\u001b[39;49m\u001b[39mFalse\u001b[39;49;00m\n\u001b[0;32m   1108\u001b[0m     )\n\u001b[0;32m   1109\u001b[0m \u001b[39mself\u001b[39m\u001b[39m.\u001b[39msheets: \u001b[39mdict\u001b[39m[\u001b[39mstr\u001b[39m, Any] \u001b[39m=\u001b[39m {}\n\u001b[0;32m   1110\u001b[0m \u001b[39mself\u001b[39m\u001b[39m.\u001b[39mcur_sheet \u001b[39m=\u001b[39m \u001b[39mNone\u001b[39;00m\n",
      "File \u001b[1;32mc:\\Users\\elmooo\\Desktop\\Projects\\venv\\lib\\site-packages\\pandas\\io\\common.py:795\u001b[0m, in \u001b[0;36mget_handle\u001b[1;34m(path_or_buf, mode, encoding, compression, memory_map, is_text, errors, storage_options)\u001b[0m\n\u001b[0;32m    786\u001b[0m         handle \u001b[39m=\u001b[39m \u001b[39mopen\u001b[39m(\n\u001b[0;32m    787\u001b[0m             handle,\n\u001b[0;32m    788\u001b[0m             ioargs\u001b[39m.\u001b[39mmode,\n\u001b[1;32m   (...)\u001b[0m\n\u001b[0;32m    791\u001b[0m             newline\u001b[39m=\u001b[39m\u001b[39m\"\u001b[39m\u001b[39m\"\u001b[39m,\n\u001b[0;32m    792\u001b[0m         )\n\u001b[0;32m    793\u001b[0m     \u001b[39melse\u001b[39;00m:\n\u001b[0;32m    794\u001b[0m         \u001b[39m# Binary mode\u001b[39;00m\n\u001b[1;32m--> 795\u001b[0m         handle \u001b[39m=\u001b[39m \u001b[39mopen\u001b[39;49m(handle, ioargs\u001b[39m.\u001b[39;49mmode)\n\u001b[0;32m    796\u001b[0m     handles\u001b[39m.\u001b[39mappend(handle)\n\u001b[0;32m    798\u001b[0m \u001b[39m# Convert BytesIO or file objects passed with an encoding\u001b[39;00m\n",
      "\u001b[1;31mPermissionError\u001b[0m: [Errno 13] Permission denied: 'data_sheet/all_players_2.xlsx'"
     ]
    }
   ],
   "source": [
    "players = all_players.values()\n",
    "\n",
    "df = pandas.DataFrame.from_dict(all_players , orient=\"index\",\n",
    "        columns=[\"Name\",'Link','Position','Height','Born_Date','Born_place',\n",
    "        'College','High School','NBA Debut'])\n",
    "\n",
    "#print(df)\n",
    "\n",
    "df.to_excel(\"data_sheet/all_players_2.xlsx\",index=False)\n",
    "df.to_csv(\"data_sheet/all_players.csv\",index=False)"
   ]
  }
 ],
 "metadata": {
  "kernelspec": {
   "display_name": "Python 3.10.6 ('venv': venv)",
   "language": "python",
   "name": "python3"
  },
  "language_info": {
   "codemirror_mode": {
    "name": "ipython",
    "version": 3
   },
   "file_extension": ".py",
   "mimetype": "text/x-python",
   "name": "python",
   "nbconvert_exporter": "python",
   "pygments_lexer": "ipython3",
   "version": "3.10.6"
  },
  "orig_nbformat": 4,
  "vscode": {
   "interpreter": {
    "hash": "832ee5e621b31a36950863520d773a0e8f2c7eb70943685e06cffd2baab78530"
   }
  }
 },
 "nbformat": 4,
 "nbformat_minor": 2
}
